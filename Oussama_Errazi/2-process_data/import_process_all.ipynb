{
 "cells": [
  {
   "cell_type": "code",
   "execution_count": null,
   "id": "36bac31a-2c1b-4250-ba20-7a1cc210b400",
   "metadata": {},
   "outputs": [],
   "source": [
    "import json\n",
    "import pandas as pd\n",
    "\n",
    "# 2.1 Opening single JSON file \n",
    "f = open('0-data/vehiclePosition02.json')\n",
    "data = json.load(f)\n",
    "\n",
    "# 2.2 Converting dictionary to Pandas DF\n",
    "df = pd.DataFrame.from_dict(data)\n",
    "df.head()\n"
   ]
  },
  {
   "cell_type": "code",
   "execution_count": null,
   "id": "b8b8df3a-8018-494a-b7fe-670d27d9ff3d",
   "metadata": {},
   "outputs": [],
   "source": [
    "# 0. -----------------  MODULES -------------------------------------------------------------------------------------------------------#\n",
    "import json\n",
    "import pandas as pd\n",
    "import ipdb \n",
    "import datetime\n",
    "\n",
    "# 1. ---------------- FUNCTIONS --------------------------------------------------------------------------------------------------------#\n",
    "\n",
    "# ipdb.set_trace()  # for trace\n",
    "\n",
    "# Function 1: Generate  pandas df for each lineId \n",
    "def create_df_lineid(df_single_line):\n",
    "    \"\"\"\"create pandas df for a line ID\"\"\"\n",
    "    \n",
    "    # Initialize list\n",
    "    append_data = []\n",
    "\n",
    "    # Convert each row in df line\n",
    "    for index, row in df_single_line.iterrows():\n",
    "        append_data.append(pd.DataFrame(row['vehiclePositions'],index=[0]))\n",
    "\n",
    "    # Concatenate the new data\n",
    "    df_vehicle_pos = pd.concat(append_data)\n",
    "    df_line_id = pd.DataFrame(df_single_line['lineId'])\n",
    "    return df_vehicle_pos.join(df_line_id)\n",
    "\n",
    "\n",
    "# Function 2: Preparation data from a single json file converted in pandas df.\n",
    "def prepare_data(df):  \n",
    "    \"\"\"\"Prepare the data for computation\"\"\"\n",
    "    list_df = [] # initialize df\n",
    "    for i in range(round(len(df))):  \n",
    "          \n",
    "          df_data = pd.DataFrame.from_dict(df.loc[i, \"data\"])\n",
    "\n",
    "          print('*******************************************************************')\n",
    "          print('PROCESSING DATA: ' + str(i) + ' of ' + str(round(len(df)))) \n",
    "          print('*******************************************************************')\n",
    "          \n",
    "          for ind in range(len(df_data)):\n",
    "             df_lines = pd.DataFrame.from_dict(df_data.loc[ind, \"Responses\"])\n",
    "             df_lines = df_lines.join(df_data['time'])\n",
    "             df_lines.dropna(subset = [\"time\"], inplace=True) #remove nan from ts colum\n",
    "        \n",
    "             for j in range(len(df_lines)):\n",
    "                df_lineId = pd.DataFrame.from_dict(df_lines.loc[j, 'lines'])\n",
    "                df_vehicle_line_id = create_df_lineid(df_single_line = df_lineId) # create df for each vehicle line with features \n",
    "                df_time = pd.DataFrame(df_lines['time'].unique())\n",
    "                df_time.columns = ['time']\n",
    "                df_time = pd.to_datetime(df_time['time'], unit='ms')\n",
    "                df_final = pd.concat([df_time, df_vehicle_line_id], axis = 1)\n",
    "                list_df.append(df_final.head()) # list of dataframes\n",
    "                #print('-------------------------------------------------------------------')\n",
    "    return pd.concat(list_df)\n",
    "       "
   ]
  },
  {
   "cell_type": "code",
   "execution_count": null,
   "id": "a4a9f74c-11ee-405c-a7ef-1f3b6f651d20",
   "metadata": {},
   "outputs": [],
   "source": [
    "bigdata = prepare_data(df = df)"
   ]
  },
  {
   "cell_type": "code",
   "execution_count": null,
   "id": "256b0708-d474-483c-a95f-9eff2ca208fe",
   "metadata": {},
   "outputs": [],
   "source": [
    "bigdata.head()"
   ]
  },
  {
   "cell_type": "code",
   "execution_count": null,
   "id": "9aebd610-7b6e-4de1-84e5-d6857a0646f4",
   "metadata": {},
   "outputs": [],
   "source": [
    "len(bigdata)"
   ]
  },
  {
   "cell_type": "code",
   "execution_count": null,
   "id": "63636da5-ebd0-4ea4-b9b0-5cb3d51e251e",
   "metadata": {},
   "outputs": [],
   "source": [
    "network_metro = bigdata[(bigdata['lineId']==1)]\n",
    "network_metro"
   ]
  },
  {
   "cell_type": "code",
   "execution_count": null,
   "id": "c333be60-e6eb-4ff7-8895-0427e9764093",
   "metadata": {},
   "outputs": [],
   "source": [
    "network_metro"
   ]
  },
  {
   "cell_type": "code",
   "execution_count": null,
   "id": "4222d991-248b-40b2-a657-8ed382c1df6c",
   "metadata": {},
   "outputs": [],
   "source": [
    "bigdata.to_csv(index=False)"
   ]
  },
  {
   "cell_type": "code",
   "execution_count": null,
   "id": "a519bb45-eb03-44de-83d8-f9c8c02c94f5",
   "metadata": {},
   "outputs": [],
   "source": [
    "bigdata.to_csv('testset.csv')"
   ]
  },
  {
   "cell_type": "code",
   "execution_count": null,
   "id": "4383363b-bfc8-4dbe-8388-836a4a6732de",
   "metadata": {},
   "outputs": [],
   "source": [
    "import pandas as pd\n",
    "pd.read_csv('testset.csv').head()"
   ]
  },
  {
   "cell_type": "code",
   "execution_count": null,
   "id": "28552d11-2ba8-41db-8526-5f02b399bab8",
   "metadata": {},
   "outputs": [],
   "source": []
  }
 ],
 "metadata": {
  "kernelspec": {
   "display_name": "Python 3",
   "language": "python",
   "name": "python3"
  },
  "language_info": {
   "codemirror_mode": {
    "name": "ipython",
    "version": 3
   },
   "file_extension": ".py",
   "mimetype": "text/x-python",
   "name": "python",
   "nbconvert_exporter": "python",
   "pygments_lexer": "ipython3",
   "version": "3.8.8"
  }
 },
 "nbformat": 4,
 "nbformat_minor": 5
}
